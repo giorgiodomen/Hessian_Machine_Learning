{
 "cells": [
  {
   "cell_type": "code",
   "execution_count": null,
   "metadata": {},
   "outputs": [],
   "source": [
    "import matplotlib.pyplot as plt\n",
    "import numpy as np\n",
    "import pickle\n",
    "\n",
    "from sklearn.ensemble import RandomForestRegressor as rfr\n",
    "from sklearn.model_selection import train_test_split\n",
    "import sys\n",
    "sys.path.append(\"../Libs\")\n",
    "from Repres_utils import find_path,find_all_paths,distmat,bm_to_graph,append_dict,build_i_idx,integrity\\\n",
    "        ,angle_cos,dihedral_cos\n",
    "from sklearn.metrics import mean_absolute_error as MAE"
   ]
  },
  {
   "cell_type": "code",
   "execution_count": null,
   "metadata": {},
   "outputs": [],
   "source": [
    "def angle_angle_vert_repr(charges,xyzcoords,BOM,idx,i_idx,molg,q):\n",
    "    i,j,k,l,v=idx\n",
    "    DM=distmat(xyzcoords)\n",
    "    molgi=molg[i].copy()\n",
    "    molgi.remove(v)\n",
    "    molgj=molg[j].copy()\n",
    "    molgj.remove(v)\n",
    "    molgk=molg[k].copy()\n",
    "    molgk.remove(v)\n",
    "    molgl=molg[l].copy()\n",
    "    molgl.remove(v)\n",
    "    \n",
    "    za=np.zeros(60) \n",
    "    if len(molgi)>3 or len(molgj)>3 or len(molgk)>3:\n",
    "        print(\"error!!\")\n",
    "    lims=[0,15,30,45]\n",
    "    if len(molgj):\n",
    "        for n_g,molg_n in enumerate([molgi,molgj,molgk,molgl ]):\n",
    "            adj_ar=[]\n",
    "            for atom in molg_n:\n",
    "                adj_ar.append([charges[atom],BOM[atom,idx[n_g]],DM[atom,idx[n_g]],\\\n",
    "          angle_cos(xyzcoords,(atom,idx[n_g],v)),dihedral_cos(xyzcoords,(atom,idx[n_g],v,idx[2*(n_g<2)]))])\n",
    "\n",
    "            adj_ar.sort()\n",
    "            adj_ar=[x for ar in adj_ar for x in ar]\n",
    "            za[lims[n_g]:lims[n_g]+len(adj_ar)]=np.asarray(adj_ar)\n",
    "    \n",
    "    return  BOM[i,v],DM[i,v],BOM[j,v],DM[j,v],angle_cos(xyzcoords,(i,v,j)),\\\n",
    "         BOM[v,l],DM[v,l],BOM[v,k],DM[v,k],angle_cos(xyzcoords,(k,v,l)),\\\n",
    "        BOM[i,j],BOM[i,k],BOM[i,l],BOM[j,k],BOM[j,l],BOM[k,l],*za "
   ]
  },
  {
   "cell_type": "markdown",
   "metadata": {},
   "source": [
    "Notebook for the prediction of the Hessian elements corresponding to the second derivative of the energy with respect to a pair of opposite angles (sharing the vertex ).  \n",
    "\n",
    "![figure](Figures/AAV.png)"
   ]
  },
  {
   "cell_type": "code",
   "execution_count": null,
   "metadata": {},
   "outputs": [],
   "source": [
    "data = np.load(\"../Read Data/DataSet_H_IC.npz\", allow_pickle=True)\n",
    "X_IC,Y_IC = data[\"x\"], data[\"y\"]\n",
    "Data=np.vstack((X_IC.T,Y_IC)).T\n",
    "Data.shape"
   ]
  },
  {
   "cell_type": "code",
   "execution_count": null,
   "metadata": {},
   "outputs": [],
   "source": [
    "from Nondiag_representation import angle_angle_vert_repr"
   ]
  },
  {
   "cell_type": "code",
   "execution_count": null,
   "metadata": {
    "scrolled": false
   },
   "outputs": [],
   "source": [
    "def add_repr2mols(calcs):\n",
    "    Mols=[]\n",
    "    for calc in calcs: \n",
    "        charges,xyzcoords,BOM,idxs,q,B,g_ic,h_ic=calc\n",
    "        Mol=[]\n",
    "        molg=bm_to_graph(BOM)\n",
    "        i_idxs={}\n",
    "        for n_ic,idx_ic in enumerate(idxs):\n",
    "            i_idxs[idx_ic]=n_ic\n",
    "            i_idxs[idx_ic[::-1]]=n_ic\n",
    "        for idx in idxs:\n",
    "            if len(idx)==3:\n",
    "                i,v,j=idx\n",
    "                molgv= molg[v].copy()\n",
    "                molgv.remove(i),molgv.remove(j)\n",
    "                if len (molgv)!=2: continue\n",
    "                k,l=molgv[0],molgv[1]\n",
    "                if max(k,l)>max(i,j):continue #avoid double repres.\n",
    "                if max(charges[k],charges[l])>max(charges[i],charges[j]) or \\\n",
    "        max(charges[k],charges[l])==max(charges[i],charges[j]) and min(charges[k],charges[l])>min(charges[i],charges[j]) :\n",
    "                    if charges[k]>charges[l]: a1,a2=k,l\n",
    "                    else: a1,a2=l,k\n",
    "                    if charges[i]>charges[j]: a3,a4=i,j\n",
    "                    else: a4,a3=i,j\n",
    "                else:\n",
    "                    if charges[k]>=charges[l]: a3,a4=k,l\n",
    "                    else: a3,a4=l,k\n",
    "                    if charges[i]>=charges[j]: a1,a2=i,j\n",
    "                    else: a2,a1=i,j \n",
    "                    rv=np.array([*angle_angle_vert_repr(charges,xyzcoords,BOM,(a1,a2,a3,a4,v),i_idxs,molg,q),\\\n",
    "                                 h_ic[i_idxs[(a1,v,a2)],i_idxs[(a3,v,a4)]]])\n",
    "                    Mol.append([tuple(charges[x] for x in (a1,a2,a3,a4,v)),rv])\n",
    "        Mols.append(Mol)\n",
    "    return Mols"
   ]
  },
  {
   "cell_type": "code",
   "execution_count": null,
   "metadata": {},
   "outputs": [],
   "source": [
    "from multiprocessing import Pool\n",
    "from functools import partial\n",
    "def multi_process_repr(arr,num_processes = 35):\n",
    "    chunks=np.array_split(arr,num_processes)\n",
    "    pool = Pool(processes=num_processes)\n",
    "    results = pool.map(partial(add_repr2mols),chunks)\n",
    "    return  [item for list_ in results for item in list_]"
   ]
  },
  {
   "cell_type": "code",
   "execution_count": null,
   "metadata": {},
   "outputs": [],
   "source": [
    "Mols=multi_process_repr(Data)\n",
    "train,test =train_test_split(Mols)"
   ]
  },
  {
   "cell_type": "code",
   "execution_count": null,
   "metadata": {},
   "outputs": [],
   "source": [
    "Angle_Angle_train={}\n",
    "for mol in train:\n",
    "    for b_a in mol:\n",
    "        label,repres=b_a\n",
    "        append_dict(Angle_Angle_train,label,repres)\n",
    "Angle_Angle_test={}\n",
    "for mol in test:\n",
    "    for b_a in mol:\n",
    "        label,repres=b_a\n",
    "        append_dict(Angle_Angle_test,label,repres)"
   ]
  },
  {
   "cell_type": "code",
   "execution_count": null,
   "metadata": {},
   "outputs": [],
   "source": [
    "for bex in Angle_Angle_test:\n",
    "    Angle_Angle_test[bex]=np.asarray(Angle_Angle_test[bex])\n",
    "for bex in Angle_Angle_train:\n",
    "    Angle_Angle_train[bex]=np.asarray(Angle_Angle_train[bex])"
   ]
  },
  {
   "cell_type": "code",
   "execution_count": null,
   "metadata": {},
   "outputs": [],
   "source": [
    "predictions={}\n",
    "for key in Angle_Angle_train:\n",
    "    if key not in Angle_Angle_test: continue \n",
    "    x_train,y_train=Angle_Angle_train[key][:,:-1],Angle_Angle_train[key][:,-1]\n",
    "    x_test,y_test=Angle_Angle_test[key][:,:-1],Angle_Angle_test[key][:,-1]\n",
    "    if (len(y_test)+len(y_train))<10:  # excluding the pairs which do not occur at least 10 times in the dataset\n",
    "        continue\n",
    "    rf = rfr(n_estimators=100,n_jobs=32)\n",
    "    rf.fit(x_train, y_train)\n",
    "    y_pred=rf.predict(x_test)\n",
    "    predictions[key]=(y_test,y_pred)"
   ]
  },
  {
   "cell_type": "code",
   "execution_count": null,
   "metadata": {},
   "outputs": [],
   "source": [
    "for key in predictions:\n",
    "    (y_test,y_pred)=predictions[key]\n",
    "    plt.figure(figsize=(8,8))\n",
    "    plt.title(key)\n",
    "    plt.scatter(y_test,y_pred,s=5)\n",
    "    plt.xlabel(\"TRUE\")\n",
    "    plt.ylabel(\"PREDICTED\")\n",
    "    ml,Ml=min(min(y_pred),min(y_test)),max(max(y_pred),max(y_test))\n",
    "    print(\"MAE = \", MAE(y_pred,y_test))\n",
    "    plt.plot([ml,Ml],[ml,Ml],ls=\":\",c=\"k\")\n",
    "    plt.show()"
   ]
  },
  {
   "cell_type": "code",
   "execution_count": null,
   "metadata": {},
   "outputs": [],
   "source": [
    "Angle_Angle_all={}\n",
    "for mol in Mols:\n",
    "    for b_a in mol:\n",
    "        label,repres=b_a\n",
    "        append_dict(Angle_Angle_all,label,repres)\n",
    "for bex in Angle_Angle_all:\n",
    "    Angle_Angle_all[bex]=np.asarray(Angle_Angle_all[bex])\n",
    "Models={}\n",
    "for key in Angle_Angle_all:\n",
    "    x_train,y_train=Angle_Angle_all[key][:,:-1],Angle_Angle_all[key][:,-1]\n",
    "    rf = rfr(n_estimators=100,n_jobs=32)\n",
    "    rf.fit(x_train, y_train)\n",
    "    rf.n_jobs=1\n",
    "    Models[key]=rf"
   ]
  },
  {
   "cell_type": "code",
   "execution_count": null,
   "metadata": {},
   "outputs": [],
   "source": [
    "from joblib import dump as jl_dump\n",
    "from joblib import load as jl_load\n",
    "for i in Models:\n",
    "    jl_dump(Models[i],\"./Saved_Models/AAV/{}{}{}{}{}.joblib\".format(*i))"
   ]
  },
  {
   "cell_type": "code",
   "execution_count": null,
   "metadata": {},
   "outputs": [],
   "source": []
  }
 ],
 "metadata": {
  "kernelspec": {
   "display_name": "Python 3 (ipykernel)",
   "language": "python",
   "name": "python3"
  },
  "language_info": {
   "codemirror_mode": {
    "name": "ipython",
    "version": 3
   },
   "file_extension": ".py",
   "mimetype": "text/x-python",
   "name": "python",
   "nbconvert_exporter": "python",
   "pygments_lexer": "ipython3",
   "version": "3.8.13"
  }
 },
 "nbformat": 4,
 "nbformat_minor": 2
}
