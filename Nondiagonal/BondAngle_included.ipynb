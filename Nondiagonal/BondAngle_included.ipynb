{
 "cells": [
  {
   "cell_type": "code",
   "execution_count": null,
   "metadata": {
    "scrolled": true
   },
   "outputs": [],
   "source": [
    "import matplotlib.pyplot as plt\n",
    "import numpy as np\n",
    "import pickle\n",
    "from sklearn.ensemble import RandomForestRegressor as rfr\n",
    "from sklearn.model_selection import train_test_split\n",
    "import sys\n",
    "sys.path.append(\"../Libs\")\n",
    "from Repres_utils import find_path,find_all_paths,distmat,bm_to_graph,append_dict,build_i_idx,integrity\\\n",
    "        ,angle_cos,dihedral_cos\n",
    "\n",
    "from sklearn.metrics import mean_absolute_error as MAE"
   ]
  },
  {
   "cell_type": "markdown",
   "metadata": {},
   "source": [
    "Notebook for the prediction of the Hessian elements corresponding to the second derivative of the energy with respect to an angle and to one of the bonds by which is included (the bond is a side of the angle).  \n",
    "\n",
    "<img src=\"Figures/BAi.png\" width=\"200\" height=\"200\" />\n"
   ]
  },
  {
   "cell_type": "code",
   "execution_count": null,
   "metadata": {},
   "outputs": [],
   "source": [
    "data = np.load(\"../Read Data/DataSet_H_IC.npz\", allow_pickle=True)\n",
    "X_IC,Y_IC = data[\"x\"], data[\"y\"]\n",
    "Data=np.vstack((X_IC.T,Y_IC)).T\n",
    "Data.shape"
   ]
  },
  {
   "cell_type": "code",
   "execution_count": null,
   "metadata": {},
   "outputs": [],
   "source": [
    "from Nondiag_representation import bond_angle_incl_repr"
   ]
  },
  {
   "cell_type": "code",
   "execution_count": null,
   "metadata": {
    "scrolled": false
   },
   "outputs": [],
   "source": [
    "def add_repr2mols(calcs):\n",
    "    Mols=[]\n",
    "    for calc in calcs: \n",
    "        charges,xyzcoords,BOM,idxs,q,B,g_ic,h_ic=calc\n",
    "        Mol=[]\n",
    "        molg=bm_to_graph(BOM)\n",
    "        i_idxs=build_i_idx(idxs)\n",
    "        for b,idx in enumerate(idxs):  #  index coordinates\n",
    "            if len(idx)==2: pass\n",
    "            elif len(idx)==3:\n",
    "                i,j,k=idx\n",
    "                cycl_class= (len(find_all_paths(molg,j,k)),len(find_all_paths(molg,i,j)),\\\n",
    "                                 len(find_all_paths(molg,i,k)))\n",
    "                rv=np.array([*cycl_class,*bond_angle_incl_repr(charges,xyzcoords,BOM,(i,j,k),i_idxs,molg,q),\\\n",
    "                             h_ic[b,i_idxs[(i,j)]]])\n",
    "                Mol.append([tuple(charges[x] for x in (i,j,k)),rv])\n",
    "                i,k=k,i   # Also the other border k=j-i   switch 'i' and 'k'\n",
    "                cycl_class= (len(find_all_paths(molg,j,k)),len(find_all_paths(molg,i,j)),\\\n",
    "                                 len(find_all_paths(molg,i,k)))\n",
    "                rv=np.array([*cycl_class,*bond_angle_incl_repr(charges,xyzcoords,BOM,(i,j,k),i_idxs,molg,q)\\\n",
    "                             ,h_ic[b,i_idxs[(i,j)]]])\n",
    "                Mol.append([tuple(charges[x] for x in (i,j,k)),rv])\n",
    "        Mols.append(Mol)\n",
    "    return Mols"
   ]
  },
  {
   "cell_type": "code",
   "execution_count": null,
   "metadata": {},
   "outputs": [],
   "source": [
    "from multiprocessing import Pool\n",
    "from functools import partial\n",
    "def multi_process_repr(arr,num_processes = 35):\n",
    "    chunks=np.array_split(arr,num_processes)\n",
    "    pool = Pool(processes=num_processes)\n",
    "    results = pool.map(partial(add_repr2mols),chunks)\n",
    "    return  [item for list_ in results for item in list_]\n",
    "Mols=multi_process_repr(Data)\n",
    "train,test =train_test_split(Mols)\n"
   ]
  },
  {
   "cell_type": "code",
   "execution_count": null,
   "metadata": {},
   "outputs": [],
   "source": [
    "Bond_Angle_train={}\n",
    "for mol in train:\n",
    "    for b_a in mol:\n",
    "        label,repres=b_a\n",
    "        append_dict(Bond_Angle_train,label,repres)\n",
    "Bond_Angle_test={}\n",
    "for mol in test:\n",
    "    for b_a in mol:\n",
    "        label,repres=b_a\n",
    "        append_dict(Bond_Angle_test,label,repres)"
   ]
  },
  {
   "cell_type": "code",
   "execution_count": null,
   "metadata": {},
   "outputs": [],
   "source": [
    "for bex in Bond_Angle_test:\n",
    "    Bond_Angle_test[bex]=np.asarray(Bond_Angle_test[bex])\n",
    "for bex in Bond_Angle_train:\n",
    "    Bond_Angle_train[bex]=np.asarray(Bond_Angle_train[bex])"
   ]
  },
  {
   "cell_type": "code",
   "execution_count": null,
   "metadata": {},
   "outputs": [],
   "source": [
    "predictions={}\n",
    "for key in Bond_Angle_test:\n",
    "    if key not in Bond_Angle_train: continue\n",
    "    x_train,y_train=Bond_Angle_train[key][:,:-1],Bond_Angle_train[key][:,-1]\n",
    "    x_test,y_test=Bond_Angle_test[key][:,:-1],Bond_Angle_test[key][:,-1]\n",
    "    if (len(y_test)+len(y_train))<10:continue \n",
    "    rf = rfr(n_estimators=100,n_jobs=32)\n",
    "    rf.fit(x_train, y_train)\n",
    "    y_pred=rf.predict(x_test)\n",
    "    predictions[key]=(y_test,y_pred)"
   ]
  },
  {
   "cell_type": "code",
   "execution_count": null,
   "metadata": {},
   "outputs": [],
   "source": [
    "for key in predictions:\n",
    "    (y_pred,y_test)=predictions[key]\n",
    "    plt.figure(figsize=(8,8))\n",
    "    plt.title(key)\n",
    "    plt.scatter(y_pred,y_test,s=3)\n",
    "    plt.xlabel(\"PREDICTED\")\n",
    "    plt.ylabel(\"TRUE\")\n",
    "    print(\"MAE = \", MAE(y_pred,y_test))\n",
    "    ml,Ml=min(min(y_pred),min(y_test)),max(max(y_pred),max(y_test))\n",
    "    plt.plot([ml,Ml],[ml,Ml],ls=\":\",c=\"k\")\n",
    "    plt.show()"
   ]
  },
  {
   "cell_type": "code",
   "execution_count": null,
   "metadata": {},
   "outputs": [],
   "source": [
    "plt.figure(figsize=(8,8))\n",
    "for key in predictions:\n",
    "    (y_pred,y_test)=predictions[key]\n",
    "    plt.scatter(y_pred,y_test,s=3,c='C0')\n",
    "    ml,Ml=min(min(y_pred),min(y_test)),max(max(y_pred),max(y_test))\n",
    "    plt.plot([ml,Ml],[ml,Ml],ls=\":\",c=\"k\")"
   ]
  },
  {
   "cell_type": "code",
   "execution_count": null,
   "metadata": {},
   "outputs": [],
   "source": [
    "Bond_Angle_all={}\n",
    "for mol in Mols:\n",
    "    for b_a in mol:\n",
    "        label,repres=b_a\n",
    "        append_dict(Bond_Angle_all,label,repres)\n",
    "for bex in Bond_Angle_all:\n",
    "    Bond_Angle_all[bex]=np.asarray(Bond_Angle_all[bex])\n",
    "Models={}\n",
    "for key in Bond_Angle_all:\n",
    "    x_train,y_train=Bond_Angle_all[key][:,:-1],Bond_Angle_all[key][:,-1]\n",
    "    rf = rfr(n_estimators=100,n_jobs=32)\n",
    "    rf.fit(x_train, y_train)\n",
    "    rf.n_jobs=1\n",
    "    Models[key]=rf"
   ]
  },
  {
   "cell_type": "code",
   "execution_count": null,
   "metadata": {},
   "outputs": [],
   "source": [
    "from joblib import dump as jl_dump\n",
    "from joblib import load as jl_load\n",
    "for i in Models:\n",
    "    jl_dump(Models[i],\"./Saved_Models/BA_inc/{}{}{}.joblib\".format(*i))"
   ]
  },
  {
   "cell_type": "code",
   "execution_count": null,
   "metadata": {},
   "outputs": [],
   "source": []
  }
 ],
 "metadata": {
  "kernelspec": {
   "display_name": "Python 3 (ipykernel)",
   "language": "python",
   "name": "python3"
  },
  "language_info": {
   "codemirror_mode": {
    "name": "ipython",
    "version": 3
   },
   "file_extension": ".py",
   "mimetype": "text/x-python",
   "name": "python",
   "nbconvert_exporter": "python",
   "pygments_lexer": "ipython3",
   "version": "3.8.13"
  }
 },
 "nbformat": 4,
 "nbformat_minor": 2
}
