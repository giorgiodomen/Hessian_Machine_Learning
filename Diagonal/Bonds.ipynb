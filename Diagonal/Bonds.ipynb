{
 "cells": [
  {
   "cell_type": "code",
   "execution_count": null,
   "metadata": {},
   "outputs": [],
   "source": [
    "import matplotlib.pyplot as plt\n",
    "import numpy as np\n",
    "from numpy.linalg import norm\n",
    "import pickle\n",
    "import copy\n",
    "import sys\n",
    "sys.path.append(\"../Libs\")\n",
    "%load_ext autoreload\n",
    "%autoreload 2\n",
    "from Repres_utils import bm_to_graph,find_path,find_all_paths,distmat,append_dict,build_i_idx,get_dihedral,\\\n",
    "                        dihedral_cos,angle_cos,mol_integrity,ordered_charges\n",
    "from parallel_representations import multi_process_repr\n",
    "\n",
    "\n",
    "from sklearn.model_selection import train_test_split\n",
    "from sklearn.ensemble import RandomForestRegressor as rfr"
   ]
  },
  {
   "cell_type": "code",
   "execution_count": null,
   "metadata": {},
   "outputs": [],
   "source": [
    "data = np.load(\"../Read Data/DataSet_H_IC.npz\", allow_pickle=True)\n",
    "X_IC,Y_IC = data[\"x\"], data[\"y\"]\n",
    "len(X_IC)"
   ]
  },
  {
   "cell_type": "code",
   "execution_count": null,
   "metadata": {},
   "outputs": [],
   "source": [
    "Dat=np.vstack((X_IC.T,Y_IC)).T\n",
    "Dat.shape"
   ]
  },
  {
   "cell_type": "code",
   "execution_count": null,
   "metadata": {},
   "outputs": [],
   "source": [
    "mols=multi_process_repr(Dat,\"bonds\",num_processes = 35)"
   ]
  },
  {
   "cell_type": "code",
   "execution_count": null,
   "metadata": {},
   "outputs": [],
   "source": [
    "train,test=train_test_split(mols)\n",
    "len(train),len(test)"
   ]
  },
  {
   "cell_type": "code",
   "execution_count": null,
   "metadata": {},
   "outputs": [],
   "source": [
    "train,test=train_test_split(mols)\n",
    "test_bonds={}\n",
    "train_bonds={}\n",
    "test_bonds_r={}\n",
    "train_bonds_r={}\n",
    "for mol in train:\n",
    "    for bond in mol:\n",
    "        label,ring,repres=bond\n",
    "        if ring:\n",
    "            append_dict(train_bonds_r,label,repres)\n",
    "        else:\n",
    "            append_dict(train_bonds,label,repres)\n",
    "for mol in test:\n",
    "    for bond in mol:\n",
    "        label,ring,repres=bond\n",
    "        if ring:\n",
    "            append_dict(test_bonds_r,label,repres)\n",
    "        else:\n",
    "            append_dict(test_bonds,label,repres)\n",
    "\n",
    "for bex in train_bonds:\n",
    "    train_bonds[bex]=np.asarray(train_bonds[bex])\n",
    "for bex in train_bonds_r:\n",
    "    train_bonds_r[bex]=np.asarray(train_bonds_r[bex])\n",
    "for bex in test_bonds:\n",
    "    test_bonds[bex]=np.asarray(test_bonds[bex])\n",
    "for bex in test_bonds_r:\n",
    "    test_bonds_r[bex]=np.asarray(test_bonds_r[bex])"
   ]
  },
  {
   "cell_type": "code",
   "execution_count": null,
   "metadata": {},
   "outputs": [],
   "source": [
    "#acyclic molecules\n",
    "bonds_pred_linear={}\n",
    "for bex in test_bonds:\n",
    "    if bex not in train_bonds: continue\n",
    "    x_train,x_test,y_train,y_test=train_bonds[bex][:,:-1],test_bonds[bex][:,:-1],\\\n",
    "            train_bonds[bex][:,-1:],test_bonds[bex][:,-1:]\n",
    "    regr=rfr(n_estimators=100,n_jobs=32)\n",
    "    regr.fit(x_train,y_train.ravel())\n",
    "    plt.figure(figsize=(8,8))\n",
    "    plt.title(bex)\n",
    "    y_pred=regr.predict(x_test)\n",
    "    plt.plot([0,.8],[0,.8],c=\"r\",lw=1,ls=\"-.\")\n",
    "    plt.scatter(y_test,y_pred,s=4,alpha=1)\n",
    "    plt.xlabel(\"Reference\")\n",
    "    plt.ylabel(\"Prediction\")\n",
    "    plt.show()\n",
    "    bonds_pred_linear[bex]=(y_test,y_pred)\n"
   ]
  },
  {
   "cell_type": "code",
   "execution_count": null,
   "metadata": {},
   "outputs": [],
   "source": [
    "# Rings\n",
    "bonds_pred_ring={}\n",
    "for bex in test_bonds_r:\n",
    "    if bex not in train_bonds_r: continue\n",
    "    x_train,x_test,y_train,y_test=train_bonds_r[bex][:,:-1],test_bonds_r[bex][:,:-1],\\\n",
    "            train_bonds_r[bex][:,-1:],test_bonds_r[bex][:,-1:]\n",
    "    #if (len(y_test)+len(y_train))<100:continue \n",
    "    regr=rfr(n_estimators=100,n_jobs=32,)\n",
    "    regr.fit(x_train,y_train.ravel())    \n",
    "    plt.figure(figsize=(8,8))\n",
    "    plt.title(bex)\n",
    "    y_pred=regr.predict(x_test)\n",
    "    plt.plot([0,.8],[0,.8],c=\"r\",lw=1,ls=\"-.\")\n",
    "    plt.scatter(y_test,y_pred,s=4,alpha=1)\n",
    "    plt.show()\n",
    "    bonds_pred_ring[bex]=(y_test,y_pred)\n"
   ]
  },
  {
   "cell_type": "markdown",
   "metadata": {},
   "source": [
    "# Save Models"
   ]
  },
  {
   "cell_type": "code",
   "execution_count": null,
   "metadata": {},
   "outputs": [],
   "source": [
    "rings={}\n",
    "lins={}\n",
    "for mol in mols:\n",
    "    for bond in mol:\n",
    "        label,ring,repres=bond\n",
    "        if ring:\n",
    "            append_dict(rings,label,repres)\n",
    "        else:\n",
    "            append_dict(lins,label,repres)\n",
    "\n",
    "for bex in rings:\n",
    "    rings[bex]=np.asarray(rings[bex])\n",
    "for bex in lins:\n",
    "    lins[bex]=np.asarray(lins[bex])"
   ]
  },
  {
   "cell_type": "code",
   "execution_count": null,
   "metadata": {},
   "outputs": [],
   "source": [
    "models_lin={}\n",
    "\n",
    "for bex in lins:\n",
    "    x_train,y_train=lins[bex][:,:-1],lins[bex][:,-1] \n",
    "    rf = rfr(n_estimators=100,n_jobs=32)\n",
    "    rf.fit(x_train, y_train)\n",
    "    rf.n_jobs=1\n",
    "    models_lin[bex]=rf\n"
   ]
  },
  {
   "cell_type": "code",
   "execution_count": null,
   "metadata": {},
   "outputs": [],
   "source": [
    "models_ring={}\n",
    "\n",
    "for bex in rings:\n",
    "    x_train,y_train=rings[bex][:,:-1],rings[bex][:,-1] \n",
    "    rf = rfr(n_estimators=100,n_jobs=32)\n",
    "    rf.fit(x_train, y_train.flatten())\n",
    "    rf.n_jobs=1\n",
    "    models_ring[bex]=rf"
   ]
  },
  {
   "cell_type": "code",
   "execution_count": null,
   "metadata": {},
   "outputs": [],
   "source": [
    "from joblib import dump as jl_dump\n",
    "from joblib import load as jl_load"
   ]
  },
  {
   "cell_type": "code",
   "execution_count": null,
   "metadata": {},
   "outputs": [],
   "source": [
    "for i in models_lin:\n",
    "    jl_dump(models_lin[i],\"./Saved_Models/Bonds/lin_{}{}.joblib\".format(*i))\n",
    "for i in models_ring:\n",
    "    jl_dump(models_ring[i],\"./Saved_Models/Bonds/ring_{}{}.joblib\".format(*i))"
   ]
  },
  {
   "cell_type": "code",
   "execution_count": null,
   "metadata": {},
   "outputs": [],
   "source": []
  }
 ],
 "metadata": {
  "interpreter": {
   "hash": "06d3e5363ec28a7a73cbb27c01ffec8a9c20a8cf531e30e39ccc773e1dbc79ba"
  },
  "kernelspec": {
   "display_name": "Python 3 (ipykernel)",
   "language": "python",
   "name": "python3"
  },
  "language_info": {
   "codemirror_mode": {
    "name": "ipython",
    "version": 3
   },
   "file_extension": ".py",
   "mimetype": "text/x-python",
   "name": "python",
   "nbconvert_exporter": "python",
   "pygments_lexer": "ipython3",
   "version": "3.8.13"
  }
 },
 "nbformat": 4,
 "nbformat_minor": 2
}
