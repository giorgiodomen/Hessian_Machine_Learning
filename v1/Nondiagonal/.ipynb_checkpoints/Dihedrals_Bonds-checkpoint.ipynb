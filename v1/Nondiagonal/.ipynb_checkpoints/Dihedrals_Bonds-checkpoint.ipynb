{
 "cells": [
  {
   "cell_type": "code",
   "execution_count": null,
   "metadata": {},
   "outputs": [],
   "source": [
    "import matplotlib.pyplot as plt\n",
    "import numpy as np\n",
    "import pickle\n",
    "from sklearn.ensemble import RandomForestRegressor as rfr\n",
    "from sklearn.model_selection import train_test_split\n",
    "import sys\n",
    "sys.path.append(\"../Libs\")\n",
    "from Repres_utils import find_path,find_all_paths,distmat,bm_to_graph,append_dict,build_i_idx,integrity\\\n",
    "        ,angle_cos,dihedral_cos\n",
    "\n",
    "from sklearn.metrics import mean_absolute_error as MAE"
   ]
  },
  {
   "cell_type": "markdown",
   "metadata": {},
   "source": [
    "Notebook for the prediction of the Hessian elements corresponding to the second derivative of the energy with respect to a dihedral defined by atoms $i-j-k-l$ and the bonds between the inner atoms of the dihedral ($j-k$), or the outer ($i-j$ or $k-l$) .  \n",
    "\n",
    "<img src=\"Figures/DBinternal.png\" width=\"200\" height=\"200\" />\n",
    "<img src=\"Figures/DBexternal.png\" width=\"200\" height=\"200\" />\n"
   ]
  },
  {
   "cell_type": "code",
   "execution_count": null,
   "metadata": {},
   "outputs": [],
   "source": [
    "data = np.load(\"../Read Data/DataSet_H_IC.npz\", allow_pickle=True)\n",
    "X_IC,Y_IC = data[\"x\"], data[\"y\"]\n",
    "Data=np.vstack((X_IC.T,Y_IC)).T\n",
    "Data.shape"
   ]
  },
  {
   "cell_type": "code",
   "execution_count": null,
   "metadata": {},
   "outputs": [],
   "source": [
    "from Nondiag_representation import dihedral_bond_core,dihedral_bond_arms,build_DB_repr#(charges,xyzcoords,BOM,idx,q,b)"
   ]
  },
  {
   "cell_type": "code",
   "execution_count": null,
   "metadata": {
    "scrolled": false
   },
   "outputs": [],
   "source": [
    "def add_repr2mols(calcs):\n",
    "    Mols=[]\n",
    "    for calc in calcs: \n",
    "        charges,xyzcoords,BOM,idxs,q,B,g_ic,h_ic=calc\n",
    "        Mol=[]\n",
    "        molg=bm_to_graph(BOM)\n",
    "        i_idxs=build_i_idx(idxs)\n",
    "        for b,idx in enumerate(idxs):  \n",
    "            if len(idx)==2: pass\n",
    "            elif len(idx)==3: pass\n",
    "            elif len(idx)==4: \n",
    "                i,j,k,l=idx\n",
    "                rv=[*dihedral_bond_arms(charges,xyzcoords,BOM,(i,j,k,l),q,b)]\n",
    "                rv=rv+[*build_DB_repr(charges,xyzcoords,BOM,(i,j,k,l),i_idxs,q,molg,b)]\n",
    "                rv.append(h_ic[b,i_idxs[(i,j)]])\n",
    "                Mol.append([\"E\",tuple(charges[x] for x in (i,j,k,l)),rv])\n",
    "                rv=[*dihedral_bond_arms(charges,xyzcoords,BOM,(l,k,j,i),q,b)]\n",
    "                rv=rv+[*build_DB_repr(charges,xyzcoords,BOM,(l,k,j,i),i_idxs,q,molg,b)]\n",
    "                rv.append(h_ic[b,i_idxs[(k,l)]])\n",
    "                Mol.append([\"E\",tuple(charges[x] for x in (l,k,j,i)),rv])\n",
    "                rv=[*dihedral_bond_core(charges,xyzcoords,BOM,(i,j,k,l),q,b)]\n",
    "                rv=rv+[*build_DB_repr(charges,xyzcoords,BOM,(i,j,k,l),i_idxs,q,molg,b)]\n",
    "                if charges[l]>charges[i] or (charges[i]==charges[l] and charges[k]>charges[j]):\n",
    "                    i,j,k,l=l,k,j,i\n",
    "                rv.append(h_ic[b,i_idxs[(j,k)]])\n",
    "                Mol.append([\"I\",tuple(charges[x] for x in (i,j,k,l)),rv])  \n",
    "        Mols.append(Mol)\n",
    "    return Mols"
   ]
  },
  {
   "cell_type": "code",
   "execution_count": null,
   "metadata": {},
   "outputs": [],
   "source": [
    "from multiprocessing import Pool\n",
    "from functools import partial\n",
    "def multi_process_repr(arr,num_processes = 35):\n",
    "    chunks=np.array_split(arr,num_processes)\n",
    "    pool = Pool(processes=num_processes)\n",
    "    results = pool.map(partial(add_repr2mols),chunks)\n",
    "    return  [item for list_ in results for item in list_]\n",
    "Mols=multi_process_repr(Data)\n"
   ]
  },
  {
   "cell_type": "code",
   "execution_count": null,
   "metadata": {},
   "outputs": [],
   "source": []
  },
  {
   "cell_type": "code",
   "execution_count": null,
   "metadata": {},
   "outputs": [],
   "source": [
    "train,test=train_test_split(Mols)\n",
    "train_external={}\n",
    "train_internal={}\n",
    "for mol in train:\n",
    "    for db in mol:\n",
    "        if db[0]==\"E\": append_dict(train_external,db[1],db[2])\n",
    "        if db[0]==\"I\": append_dict(train_internal,db[1],db[2])\n",
    "test_external={}\n",
    "test_internal={}\n",
    "for mol in test:\n",
    "    for db in mol:\n",
    "        if db[0]==\"E\": append_dict(test_external,db[1],db[2])\n",
    "        if db[0]==\"I\": append_dict(test_internal,db[1],db[2])\n",
    "\n",
    "for ds in [test_external,test_internal,train_external,train_internal]:\n",
    "    for key in ds:\n",
    "        ds[key]=np.array(ds[key])"
   ]
  },
  {
   "cell_type": "code",
   "execution_count": null,
   "metadata": {},
   "outputs": [],
   "source": [
    "pred_int={}\n",
    "for key in test_internal:\n",
    "    print(key)\n",
    "    if key not in train_internal:continue\n",
    "    x_train,y_train,x_test,y_test=train_internal[key][:,:-1],train_internal[key][:,-1],\\\n",
    "                                    test_internal[key][:,:-1],test_internal[key][:,-1]\n",
    "    if (len(y_test)+len(y_train))<10:  # excluding the pairs which do not occur at least 10 times in the dataset\n",
    "        continue\n",
    "    RF=rfr(n_estimators=100,n_jobs=32).fit(x_train,y_train)\n",
    "    y_pred=RF.predict(x_test)\n",
    "    pred_int[key]=(y_test,y_pred)\n",
    "    plt.figure(figsize=(8,8))\n",
    "    plt.scatter(y_test,y_pred,s=3)\n",
    "    plt.xlabel(\"TRUE\")\n",
    "    plt.ylabel(\"PREDICTED\")\n",
    "    ml,Ml=min(min(y_pred),min(y_test)),max(max(y_pred),max(y_test))\n",
    "    plt.plot([ml,Ml],[ml,Ml],ls=\":\",c=\"k\")\n",
    "    plt.show()"
   ]
  },
  {
   "cell_type": "code",
   "execution_count": null,
   "metadata": {},
   "outputs": [],
   "source": [
    "pred_ext={}\n",
    "for key in test_external:\n",
    "    print(key)\n",
    "    if key not in train_external:continue\n",
    "\n",
    "    x_train,y_train,x_test,y_test=train_external[key][:,:-1],train_external[key][:,-1],\\\n",
    "                                test_external[key][:,:-1],test_external[key][:,-1]\n",
    "\n",
    "    if (len(y_test)+len(y_train))<10:  # excluding the pairs which do not occur at least 10 times in the dataset\n",
    "        continue\n",
    "    RF=rfr(n_estimators=100,n_jobs=32).fit(x_train,y_train)\n",
    "\n",
    "    y_pred=RF.predict(x_test)\n",
    "    pred_ext[key]=(y_test,y_pred)\n",
    "    plt.figure(figsize=(8,8))\n",
    "\n",
    "    plt.scatter(y_test,y_pred,s=3)\n",
    "\n",
    "    plt.xlabel(\"TRUE\")\n",
    "    plt.ylabel(\"PREDICTED\")\n",
    "    ml,Ml=min(min(y_pred),min(y_test)),max(max(y_pred),max(y_test))\n",
    "    plt.plot([ml,Ml],[ml,Ml],ls=\":\",c=\"k\")\n",
    "    plt.show()"
   ]
  },
  {
   "cell_type": "code",
   "execution_count": null,
   "metadata": {},
   "outputs": [],
   "source": [
    "plt.figure(figsize=(8,8))\n",
    "for key in pred_int:\n",
    "    (y_pred,y_test)=pred_int[key]\n",
    "    plt.scatter(y_pred,y_test,s=3,c='C0')\n",
    "    ml,Ml=min(min(y_pred),min(y_test)),max(max(y_pred),max(y_test))\n",
    "    plt.plot([ml,Ml],[ml,Ml],ls=\":\",c=\"k\")\n",
    "plt.figure(figsize=(8,8))\n",
    "for key in pred_ext:\n",
    "    (y_pred,y_test)=pred_ext[key]\n",
    "    plt.scatter(y_pred,y_test,s=3,c='C0')\n",
    "    ml,Ml=min(min(y_pred),min(y_test)),max(max(y_pred),max(y_test))\n",
    "    plt.plot([ml,Ml],[ml,Ml],ls=\":\",c=\"k\")"
   ]
  },
  {
   "cell_type": "code",
   "execution_count": null,
   "metadata": {},
   "outputs": [],
   "source": [
    "All_int={}\n",
    "All_ext={}\n",
    "for mol in Mols:\n",
    "    for D_b in mol:\n",
    "        if db[0]==\"E\": append_dict(All_ext,db[1],db[2])\n",
    "        if db[0]==\"I\": append_dict(All_int,db[1],db[2])\n",
    "for bex in All_int:\n",
    "    All_int[bex]=np.asarray(All_int[bex])\n",
    "for bex in All_ext:\n",
    "    All_ext[bex]=np.asarray(All_ext[bex])\n",
    "Models_int={}\n",
    "for key in All_int:\n",
    "    x_train,y_train=All_int[key][:,:-1],All_int[key][:,-1]\n",
    "    rf = rfr(n_estimators=100,n_jobs=32)\n",
    "    rf.fit(x_train, y_train)\n",
    "    rf.n_jobs=1\n",
    "    Models_int[key]=rf\n",
    "Models_ext={}\n",
    "for key in All_ext:\n",
    "    x_train,y_train=Models_ext[key][:,:-1],Models_ext[key][:,-1]\n",
    "    rf = rfr(n_estimators=100,n_jobs=32)\n",
    "    rf.fit(x_train, y_train)\n",
    "    rf.n_jobs=1\n",
    "    Models_ext[key]=rf"
   ]
  },
  {
   "cell_type": "code",
   "execution_count": null,
   "metadata": {},
   "outputs": [],
   "source": [
    "from joblib import dump as jl_dump\n",
    "from joblib import load as jl_load\n",
    "for i in Models_int:\n",
    "    jl_dump(Models_int[i],\"./Saved_Models/DB_core/{}{}{}{}.joblib\".format(*i))"
   ]
  },
  {
   "cell_type": "code",
   "execution_count": null,
   "metadata": {},
   "outputs": [],
   "source": [
    "for j in Models_ext:\n",
    "    jl_dump(Models_ext[j],\"./Saved_Models/DB_arm/{}{}{}{}.joblib\".format(*j))"
   ]
  },
  {
   "cell_type": "code",
   "execution_count": null,
   "metadata": {},
   "outputs": [],
   "source": []
  }
 ],
 "metadata": {
  "interpreter": {
   "hash": "06d3e5363ec28a7a73cbb27c01ffec8a9c20a8cf531e30e39ccc773e1dbc79ba"
  },
  "kernelspec": {
   "display_name": "Python 3 (ipykernel)",
   "language": "python",
   "name": "python3"
  },
  "language_info": {
   "codemirror_mode": {
    "name": "ipython",
    "version": 3
   },
   "file_extension": ".py",
   "mimetype": "text/x-python",
   "name": "python",
   "nbconvert_exporter": "python",
   "pygments_lexer": "ipython3",
   "version": "3.8.13"
  }
 },
 "nbformat": 4,
 "nbformat_minor": 2
}
