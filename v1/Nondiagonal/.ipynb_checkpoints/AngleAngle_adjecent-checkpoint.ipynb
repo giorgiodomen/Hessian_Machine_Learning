{
 "cells": [
  {
   "cell_type": "code",
   "execution_count": null,
   "metadata": {},
   "outputs": [],
   "source": [
    "import matplotlib.pyplot as plt\n",
    "import numpy as np\n",
    "import pickle\n",
    "\n",
    "from sklearn.ensemble import RandomForestRegressor as rfr\n",
    "from sklearn.model_selection import train_test_split\n",
    "import sys\n",
    "sys.path.append(\"../Libs\")\n",
    "from Repres_utils import find_path,find_all_paths,distmat,bm_to_graph,append_dict,build_i_idx,integrity,angle_cos\n"
   ]
  },
  {
   "cell_type": "markdown",
   "metadata": {},
   "source": [
    "Notebook for the prediction of the Hessian elements corresponding to the second derivative of the energy with respect to a pair of adjacent angles (sharing a side and the vertex ).  \n",
    "\n",
    "![figure](Figures/AAa.png)"
   ]
  },
  {
   "cell_type": "code",
   "execution_count": null,
   "metadata": {},
   "outputs": [],
   "source": [
    "data = np.load(\"../Read Data/DataSet_H_IC.npz\", allow_pickle=True)\n",
    "X_IC,Y_IC = data[\"x\"], data[\"y\"]\n",
    "Data=np.vstack((X_IC.T,Y_IC)).T\n",
    "Data.shape"
   ]
  },
  {
   "cell_type": "code",
   "execution_count": null,
   "metadata": {},
   "outputs": [],
   "source": [
    "from Nondiag_representation import  angle_angle_adj_repr"
   ]
  },
  {
   "cell_type": "code",
   "execution_count": null,
   "metadata": {
    "scrolled": false
   },
   "outputs": [],
   "source": [
    "def add_repr2mols(calcs):\n",
    "    Mols=[]\n",
    "    for calc in calcs: \n",
    "        charges,xyzcoords,BOM,idxs,q,B,g_ic,h_ic=calc\n",
    "        Mol=[]\n",
    "        molg=bm_to_graph(BOM)\n",
    "        i_idxs={}\n",
    "        for n_ic,idx_ic in enumerate(idxs):\n",
    "            i_idxs[idx_ic]=n_ic\n",
    "            i_idxs[idx_ic[::-1]]=n_ic\n",
    "        for b,idx in enumerate(idxs): \n",
    "            if len(idx)==2: pass\n",
    "            elif len(idx)==3:\n",
    "                i,j,k=idx\n",
    "                molgj=molg[j].copy()\n",
    "                molgj.remove(k),molgj.remove(i)\n",
    "                if len (molgj)>0:\n",
    "                    for l in molgj:\n",
    "                        a1,a2=i,j # the shared side of the adjacent angle is (a1-a2=i-j)\n",
    "                        if l>k:  #avoid double counting (angle i-j-l )\n",
    "                            if charges[l]>charges[k]: a3,a4=l,k\n",
    "                            else: a3,a4=k,l\n",
    "                            cycl_class= (len(find_all_paths(molg,a2,a1)),len(find_all_paths(molg,a2,a3)),\\\n",
    "                                        len(find_all_paths(molg,a1,a3)),len(find_all_paths(molg,a1,a4)),\\\n",
    "                                         len(find_all_paths(molg,a3,a4)))\n",
    "                            rv=np.array([*cycl_class,*angle_angle_adj_repr(charges,xyzcoords,BOM,(a1,a2,a3,a4),i_idxs,molg,q),\\\n",
    "                                         h_ic[i_idxs[(a1,a2,a3)],i_idxs[(a1,a2,a4)]]])\n",
    "                            Mol.append([tuple(charges[x] for x in (a1,a2,a3,a4)),rv]) \n",
    "                        a1,a2=k,j  #the shared side of the adjacent angle is (a1-a2 = k-j)\n",
    "                        if l>i:\n",
    "                            if charges[l]>charges[i]: a3,a4=l,i\n",
    "                            else: a3,a4=i,l\n",
    "                            cycl_class= (len(find_all_paths(molg,a2,a1)),len(find_all_paths(molg,a2,a3)),\\\n",
    "                                        len(find_all_paths(molg,a1,a3)),len(find_all_paths(molg,a1,a4)),\\\n",
    "                                         len(find_all_paths(molg,a3,a4)))\n",
    "                            rv=np.array([*cycl_class,*angle_angle_adj_repr(charges,xyzcoords,BOM,(a1,a2,a3,a4),i_idxs,molg,q),\\\n",
    "                                         h_ic[i_idxs[(a1,a2,a3)],i_idxs[(a1,a2,a4)]]])\n",
    "                            Mol.append([tuple(charges[x] for x in (a1,a2,a3,a4)),rv])\n",
    "        Mols.append(Mol)\n",
    "    return (Mols)"
   ]
  },
  {
   "cell_type": "code",
   "execution_count": null,
   "metadata": {},
   "outputs": [],
   "source": [
    "from multiprocessing import Pool\n",
    "from functools import partial\n",
    "def multi_process_repr(arr,num_processes = 35):\n",
    "    chunks=np.array_split(arr,num_processes)\n",
    "    pool = Pool(processes=num_processes)\n",
    "    results = pool.map(partial(add_repr2mols ) , chunks )\n",
    "    return  [item for list_ in results for item in list_]"
   ]
  },
  {
   "cell_type": "code",
   "execution_count": null,
   "metadata": {},
   "outputs": [],
   "source": [
    "Mols=multi_process_repr(Data)"
   ]
  },
  {
   "cell_type": "code",
   "execution_count": null,
   "metadata": {},
   "outputs": [],
   "source": [
    "train,test =train_test_split(Mols)"
   ]
  },
  {
   "cell_type": "code",
   "execution_count": null,
   "metadata": {},
   "outputs": [],
   "source": [
    "Angle_Angle_train={}\n",
    "for mol in train:\n",
    "    for a_a in mol:\n",
    "        label,repres=a_a\n",
    "        append_dict(Angle_Angle_train,label,repres)\n",
    "Angle_Angle_test={}\n",
    "for mol in test:\n",
    "    for a_a in mol:\n",
    "        label,repres=a_a\n",
    "        append_dict(Angle_Angle_test,label,repres)"
   ]
  },
  {
   "cell_type": "code",
   "execution_count": null,
   "metadata": {},
   "outputs": [],
   "source": [
    "for bex in Angle_Angle_test:\n",
    "    Angle_Angle_test[bex]=np.vstack(Angle_Angle_test[bex])\n",
    "for bex in Angle_Angle_train:\n",
    "    Angle_Angle_train[bex]=np.vstack(Angle_Angle_train[bex])"
   ]
  },
  {
   "cell_type": "code",
   "execution_count": null,
   "metadata": {},
   "outputs": [],
   "source": [
    "predictions={}\n",
    "for key in Angle_Angle_train:\n",
    "    if key not in Angle_Angle_test: continue \n",
    "    x_train,y_train=Angle_Angle_train[key][:,:-1],Angle_Angle_train[key][:,-1]\n",
    "    x_test,y_test=Angle_Angle_test[key][:,:-1],Angle_Angle_test[key][:,-1]\n",
    "    if (len(y_test)+len(y_train))<10:  # excluding the pairs which do not occur at least 10 times in the dataset\n",
    "        continue\n",
    "    rf = rfr(n_estimators=100,n_jobs=32)\n",
    "    rf.fit(x_train, y_train)\n",
    "    y_pred=rf.predict(x_test)\n",
    "    predictions[key]=(y_test,y_pred)\n"
   ]
  },
  {
   "cell_type": "code",
   "execution_count": null,
   "metadata": {},
   "outputs": [],
   "source": [
    "for key in predictions:\n",
    "    (y_test,y_pred)=predictions[key]\n",
    "    plt.figure(figsize=(8,8))\n",
    "    plt.title(key)\n",
    "    plt.scatter(y_test,y_pred,s=4)\n",
    "    plt.xlabel(\"TRUE\")\n",
    "    plt.ylabel(\"PREDICTED\")\n",
    "    ml,Ml=min(min(y_pred),min(y_test)),max(max(y_pred),max(y_test))\n",
    "    plt.plot([ml,Ml],[ml,Ml],ls=\":\",c=\"k\")\n",
    "    plt.show()"
   ]
  },
  {
   "cell_type": "code",
   "execution_count": null,
   "metadata": {},
   "outputs": [],
   "source": [
    "Angle_Angle_all={}\n",
    "for mol in Mols:\n",
    "    for b_a in mol:\n",
    "        label,repres=b_a\n",
    "        append_dict(Angle_Angle_all,label,repres)\n",
    "for bex in Angle_Angle_all:\n",
    "    Angle_Angle_all[bex]=np.asarray(Angle_Angle_all[bex])"
   ]
  },
  {
   "cell_type": "code",
   "execution_count": null,
   "metadata": {},
   "outputs": [],
   "source": [
    "Models={}\n",
    "for key in Angle_Angle_all:\n",
    "    x_train,y_train=Angle_Angle_all[key][:,:-1],Angle_Angle_all[key][:,-1]\n",
    "    rf = rfr(n_estimators=100,n_jobs=32)\n",
    "    rf.fit(x_train, y_train)\n",
    "    rf.n_jobs=1\n",
    "    Models[key]=rf"
   ]
  },
  {
   "cell_type": "code",
   "execution_count": null,
   "metadata": {},
   "outputs": [],
   "source": [
    "from joblib import dump as jl_dump\n",
    "from joblib import load as jl_load\n",
    "for i in Models:\n",
    "    jl_dump(Models[i],\"./Saved_Models/AA_adj/{}{}{}{}.joblib\".format(*i))"
   ]
  },
  {
   "cell_type": "code",
   "execution_count": null,
   "metadata": {},
   "outputs": [],
   "source": []
  }
 ],
 "metadata": {
  "kernelspec": {
   "display_name": "Python 3 (ipykernel)",
   "language": "python",
   "name": "python3"
  },
  "language_info": {
   "codemirror_mode": {
    "name": "ipython",
    "version": 3
   },
   "file_extension": ".py",
   "mimetype": "text/x-python",
   "name": "python",
   "nbconvert_exporter": "python",
   "pygments_lexer": "ipython3",
   "version": "3.8.13"
  }
 },
 "nbformat": 4,
 "nbformat_minor": 2
}
