{
 "cells": [
  {
   "cell_type": "code",
   "execution_count": null,
   "metadata": {},
   "outputs": [],
   "source": [
    "import matplotlib.pyplot as plt\n",
    "import numpy as np\n",
    "import pickle\n",
    "from sklearn.ensemble import RandomForestRegressor as rfr\n",
    "from sklearn.model_selection import train_test_split\n",
    "import sys\n",
    "sys.path.append(\"../Libs\")\n",
    "from Repres_utils import find_path,find_all_paths,distmat,bm_to_graph,append_dict,build_i_idx,integrity,angle_cos\n",
    "from sklearn.metrics import mean_absolute_error as MAE"
   ]
  },
  {
   "cell_type": "markdown",
   "metadata": {},
   "source": [
    "Notebook for the prediction of the Hessian elements corresponding to the second derivative of the energy\n",
    "with respect to a bond and to an adjacent angle (sharing the vertex).  \n",
    "\n",
    "![figure](Figures/BAa.png)"
   ]
  },
  {
   "cell_type": "code",
   "execution_count": null,
   "metadata": {},
   "outputs": [],
   "source": [
    "data = np.load(\"../Read Data/DataSet_H_IC.npz\", allow_pickle=True)\n",
    "X_IC,Y_IC = data[\"x\"], data[\"y\"]\n",
    "Data=np.vstack((X_IC.T,Y_IC)).T\n",
    "Data.shape"
   ]
  },
  {
   "cell_type": "code",
   "execution_count": null,
   "metadata": {},
   "outputs": [],
   "source": [
    "from Nondiag_representation import bond_angle_adj_repr"
   ]
  },
  {
   "cell_type": "code",
   "execution_count": null,
   "metadata": {
    "scrolled": false
   },
   "outputs": [],
   "source": [
    "def add_repr2mols(calcs):\n",
    "    Mols=[]\n",
    "    for calc in calcs: \n",
    "        charges,xyzcoords,BOM,idxs,q,B,g_ic,h_ic=calc\n",
    "        Mol=[]\n",
    "        molg=bm_to_graph(BOM)\n",
    "        i_idxs=build_i_idx(idxs)\n",
    "        for b,idx in enumerate(idxs):  \n",
    "            if len(idx)==2: pass\n",
    "            elif len(idx)==3:\n",
    "                i,j,k=idx\n",
    "                if charges[i]<charges[k]: i,k=k,i  \n",
    "                molgj=molg[j].copy()\n",
    "                if i in molgj: molgj.remove(i)\n",
    "                if k in molgj: molgj.remove(k)\n",
    "                for adj_at in molgj:\n",
    "                    cycl_class= (len(find_all_paths(molg,i,k)),len(find_all_paths(molg,i,adj_at)),\\\n",
    "                                 len(find_all_paths(molg,j,adj_at)))\n",
    "                    rv=np.array([*cycl_class,*bond_angle_adj_repr(charges,xyzcoords,BOM,(k,j,i,adj_at),i_idxs,molg,q),\\\n",
    "                                 h_ic[b,i_idxs[(adj_at,j)]]])\n",
    "                    Mol.append([tuple(charges[x] for x in (i,j,k,adj_at)),rv])\n",
    "        Mols.append(Mol)\n",
    "    return Mols"
   ]
  },
  {
   "cell_type": "code",
   "execution_count": null,
   "metadata": {},
   "outputs": [],
   "source": [
    "from multiprocessing import Pool\n",
    "from functools import partial\n",
    "def multi_process_repr(arr,num_processes = 35):\n",
    "    chunks=np.array_split(arr,num_processes)\n",
    "    pool = Pool(processes=num_processes)\n",
    "    results = pool.map(partial(add_repr2mols),chunks)\n",
    "    return  [item for list_ in results for item in list_]"
   ]
  },
  {
   "cell_type": "code",
   "execution_count": null,
   "metadata": {},
   "outputs": [],
   "source": [
    "Mols=multi_process_repr(Data)\n",
    "train,test =train_test_split(Mols)"
   ]
  },
  {
   "cell_type": "code",
   "execution_count": null,
   "metadata": {},
   "outputs": [],
   "source": [
    "Bond_Angle_train={}\n",
    "for mol in train:\n",
    "    for b_a in mol:\n",
    "        label,repres=b_a\n",
    "        append_dict(Bond_Angle_train,label,repres)"
   ]
  },
  {
   "cell_type": "code",
   "execution_count": null,
   "metadata": {},
   "outputs": [],
   "source": [
    "Bond_Angle_test={}\n",
    "for mol in test:\n",
    "    for b_a in mol:\n",
    "        label,repres=b_a\n",
    "        append_dict(Bond_Angle_test,label,repres)"
   ]
  },
  {
   "cell_type": "code",
   "execution_count": null,
   "metadata": {},
   "outputs": [],
   "source": [
    "for bex in Bond_Angle_test:\n",
    "    Bond_Angle_test[bex]=np.asarray(Bond_Angle_test[bex])\n",
    "for bex in Bond_Angle_train:\n",
    "    Bond_Angle_train[bex]=np.asarray(Bond_Angle_train[bex])"
   ]
  },
  {
   "cell_type": "code",
   "execution_count": null,
   "metadata": {},
   "outputs": [],
   "source": [
    "predictions={}\n",
    "for key in Bond_Angle_test:\n",
    "    if key not in Bond_Angle_train: continue\n",
    "    x_train,y_train=Bond_Angle_train[key][:,:-1],Bond_Angle_train[key][:,-1]\n",
    "    x_test,y_test=Bond_Angle_test[key][:,:-1],Bond_Angle_test[key][:,-1]\n",
    "    if (len(y_test)+len(y_train)) <10:\n",
    "        continue\n",
    "    rf = rfr(n_estimators=100,n_jobs=32)\n",
    "    rf.fit(x_train, y_train)\n",
    "\n",
    "    y_pred=rf.predict(x_test)\n",
    "    predictions[key]=(y_test,y_pred)\n",
    "    print(key)\n",
    "    print(\"MAE = \", MAE(y_pred,y_test))\n",
    "    "
   ]
  },
  {
   "cell_type": "code",
   "execution_count": null,
   "metadata": {},
   "outputs": [],
   "source": [
    "for key in predictions:\n",
    "\n",
    "    y_test,y_pred=predictions[key]\n",
    "    plt.figure(figsize=(8,8))\n",
    "\n",
    "    plt.scatter(y_test,y_pred,s=3)\n",
    "\n",
    "    print(\"MAE = \", MAE(y_test,y_pred))\n",
    "    \n",
    "    plt.title(key)\n",
    "    plt.xlabel(\"TRUE\")\n",
    "    plt.ylabel(\"PREDICTED\")\n",
    "    plt.plot([-.05,.05],[-.05,.05],c=\"k\",ls=\":\",lw=.5)\n",
    "    plt.show()"
   ]
  },
  {
   "cell_type": "code",
   "execution_count": null,
   "metadata": {},
   "outputs": [],
   "source": [
    "plt.figure(figsize=(8,8))\n",
    "for key in predictions:\n",
    "    (y_pred,y_test)=predictions[key]\n",
    "    plt.scatter(y_pred,y_test,s=3,c='C0')\n",
    "    ml,Ml=min(min(y_pred),min(y_test)),max(max(y_pred),max(y_test))\n",
    "    plt.plot([ml,Ml],[ml,Ml],ls=\":\",c=\"k\")"
   ]
  },
  {
   "cell_type": "code",
   "execution_count": null,
   "metadata": {},
   "outputs": [],
   "source": [
    "Angle_Angle_all={}\n",
    "for mol in Mols:\n",
    "    for b_a in mol:\n",
    "        label,repres=b_a\n",
    "        append_dict(Angle_Angle_all,label,repres)\n",
    "for bex in Angle_Angle_all:\n",
    "    Angle_Angle_all[bex]=np.asarray(Angle_Angle_all[bex])\n",
    "Models={}\n",
    "for key in Angle_Angle_all:\n",
    "    x_train,y_train=Angle_Angle_all[key][:,:-1],Angle_Angle_all[key][:,-1]\n",
    "    rf = rfr(n_estimators=100,n_jobs=32)\n",
    "    rf.fit(x_train, y_train)\n",
    "    rf.n_jobs=1\n",
    "    Models[key]=rf"
   ]
  },
  {
   "cell_type": "code",
   "execution_count": null,
   "metadata": {},
   "outputs": [],
   "source": [
    "from joblib import dump as jl_dump\n",
    "from joblib import load as jl_load\n",
    "for i in Models:\n",
    "    jl_dump(Models[i],\"./Saved_Models/BA_adj/{}{}{}{}.joblib\".format(*i))"
   ]
  },
  {
   "cell_type": "code",
   "execution_count": null,
   "metadata": {},
   "outputs": [],
   "source": []
  }
 ],
 "metadata": {
  "kernelspec": {
   "display_name": "Python 3 (ipykernel)",
   "language": "python",
   "name": "python3"
  },
  "language_info": {
   "codemirror_mode": {
    "name": "ipython",
    "version": 3
   },
   "file_extension": ".py",
   "mimetype": "text/x-python",
   "name": "python",
   "nbconvert_exporter": "python",
   "pygments_lexer": "ipython3",
   "version": "3.8.13"
  }
 },
 "nbformat": 4,
 "nbformat_minor": 2
}
