{
 "cells": [
  {
   "cell_type": "code",
   "execution_count": null,
   "metadata": {},
   "outputs": [],
   "source": [
    "import matplotlib.pyplot as plt\n",
    "import numpy as np\n",
    "import pickle\n",
    "import time,copy\n",
    "from sklearn.model_selection import train_test_split\n",
    "import sys\n",
    "sys.path.append(\"../Libs\")\n",
    "from Repres_utils import bm_to_graph,find_path,find_all_paths,distmat,append_dict,build_i_idx,get_dihedral,\\\n",
    "                        dihedral_cos,angle_cos,mol_integrity,ordered_charges\n",
    "from parallel_representations import multi_process_repr\n",
    "from Representations import build_bond_repr,build_angle_repr,build_dihedral_repr\n",
    "from sklearn.ensemble import RandomForestRegressor\n",
    "import pickle\n",
    "\n"
   ]
  },
  {
   "cell_type": "code",
   "execution_count": null,
   "metadata": {},
   "outputs": [],
   "source": [
    "data = np.load(\"../Read Data/DataSet_H_IC.npz\", allow_pickle=True)\n",
    "X_IC,Y_IC  = data[\"x\"], data[\"y\"]\n",
    "Dat=np.vstack((X_IC.T,Y_IC)).T\n",
    "Dat.shape"
   ]
  },
  {
   "cell_type": "code",
   "execution_count": null,
   "metadata": {},
   "outputs": [],
   "source": [
    "mols=multi_process_repr(Dat[:],\"dihedrals\",num_processes = 35)"
   ]
  },
  {
   "cell_type": "code",
   "execution_count": null,
   "metadata": {},
   "outputs": [],
   "source": [
    "train,test=train_test_split(mols)"
   ]
  },
  {
   "cell_type": "code",
   "execution_count": null,
   "metadata": {},
   "outputs": [],
   "source": [
    "train_lin={}\n",
    "train_ring={}\n",
    "test_lin={}\n",
    "test_ring={}\n",
    "for mol in train:\n",
    "    for d in mol:\n",
    "        if d[1][4]==1 and d[1][5]==1:\n",
    "            append_dict(train_lin,d[0],d[1])\n",
    "        else:\n",
    "            append_dict(train_ring,d[0],d[1])\n",
    "for mol in test:\n",
    "    for d in mol:\n",
    "        if d[1][4]==1 and d[1][5]==1:\n",
    "            append_dict(test_lin,d[0],d[1]) \n",
    "        else:\n",
    "            append_dict(test_ring,d[0],d[1])            \n",
    "for dih in [train_lin,train_ring,test_lin,test_ring]:\n",
    "    for l in dih.keys():\n",
    "        dih[l]=np.asarray(dih[l])"
   ]
  },
  {
   "cell_type": "code",
   "execution_count": null,
   "metadata": {},
   "outputs": [],
   "source": [
    "dihedrals_train={}\n",
    "dihedrals_test={}\n",
    "\n",
    "for mol in train:\n",
    "    for d in mol:\n",
    "        append_dict(dihedrals_train,d[0],d[1])\n",
    "for mol in test:\n",
    "    for d in mol:\n",
    "        append_dict(dihedrals_test,d[0],d[1])"
   ]
  },
  {
   "cell_type": "code",
   "execution_count": null,
   "metadata": {},
   "outputs": [],
   "source": [
    "for dih in [dihedrals_train, dihedrals_test]:\n",
    "    for l in dih.keys():\n",
    "        dih[l]=np.asarray(dih[l])"
   ]
  },
  {
   "cell_type": "code",
   "execution_count": null,
   "metadata": {},
   "outputs": [],
   "source": [
    "predictions_lin={}\n",
    "for dih_key in list(test_lin.keys())[:]:\n",
    "    if dih_key not in train_lin: continue\n",
    "    x_train,y_train= train_lin[dih_key][:,:-1],train_lin[dih_key][:,-1]\n",
    "    x_test,y_test= test_lin[dih_key][:,:-1],test_lin[dih_key][:,-1]\n",
    "    if (len(y_test)+len(y_train))<100:continue \n",
    "    rf=RandomForestRegressor(n_estimators=100,n_jobs=32).fit(x_train, y_train)\n",
    "    plt.figure(figsize=(8,8))\n",
    "    y_pred=rf.predict(x_test)\n",
    "    plt.plot([0,.1],[0,.1],c=\"r\",lw=.5,ls=\"-.\")\n",
    "    plt.scatter(y_test,y_pred,s=4)\n",
    "    plt.show()"
   ]
  },
  {
   "cell_type": "code",
   "execution_count": null,
   "metadata": {},
   "outputs": [],
   "source": [
    "predictions_ring={}\n",
    "for dih_key in list(test_ring.keys())[:]:\n",
    "    x_test,y_test= test_ring[dih_key][:,:-1],test_ring[dih_key][:,-1]\n",
    "    if dih_key not in train_ring:continue\n",
    "    x_train,y_train= train_ring[dih_key][:,:-1],train_ring[dih_key][:,-1]\n",
    "    if (len(y_test)+len(y_train))<100:continue \n",
    "    rf=RandomForestRegressor(n_estimators=100,n_jobs=32).fit(x_train, y_train)\n",
    "    plt.figure(figsize=(8,8))\n",
    "    y_pred=rf.predict(x_test)\n",
    "    plt.scatter(y_test,y_pred,s=4)\n",
    "    predictions_ring[dih_key]=[(y_test,y_pred)]\n",
    "    ml,Ml=min(min(y_pred),min(y_test)),max(max(y_pred),max(y_test))\n",
    "    plt.plot([ml,Ml],[ml,Ml],ls=\":\",c=\"k\")\n",
    "    plt.ylabel(\"PREDICTED\")\n",
    "    plt.xlabel(\"TRUE\")\n",
    "    plt.show()"
   ]
  },
  {
   "cell_type": "markdown",
   "metadata": {},
   "source": [
    "# Save Models"
   ]
  },
  {
   "cell_type": "code",
   "execution_count": null,
   "metadata": {},
   "outputs": [],
   "source": [
    "lins={}\n",
    "rings={}\n",
    "for mol in mols:\n",
    "    for d in mol:\n",
    "        if d[1][4]==1 and d[1][5]==1:\n",
    "            append_dict(lins,d[0],d[1]) \n",
    "        else:\n",
    "            append_dict(rings,d[0],d[1]) \n",
    "for dih in [lins,rings]:\n",
    "    for l in dih.keys():\n",
    "        dih[l]=np.asarray(dih[l])"
   ]
  },
  {
   "cell_type": "code",
   "execution_count": null,
   "metadata": {},
   "outputs": [],
   "source": [
    "models_lin={}\n",
    "for dih_key in list(lins.keys())[:]:\n",
    "    x_train,y_train= lins[dih_key][:,:-1],lins[dih_key][:,-1]\n",
    "    rf=RandomForestRegressor(n_estimators=100,n_jobs=32).fit(x_train, y_train)\n",
    "    rf.n_jobs=1\n",
    "    models_lin[dih_key]=rf\n",
    "    print(dih_key)"
   ]
  },
  {
   "cell_type": "code",
   "execution_count": null,
   "metadata": {},
   "outputs": [],
   "source": [
    "models_ring={}\n",
    "for dih_key in rings:\n",
    "    x_train,y_train= rings[dih_key][:,:-1],rings[dih_key][:,-1]\n",
    "    rf=RandomForestRegressor(n_estimators=100,n_jobs=32).fit(x_train, y_train)\n",
    "    rf.n_jobs=1\n",
    "    models_ring[dih_key]=rf"
   ]
  },
  {
   "cell_type": "code",
   "execution_count": null,
   "metadata": {},
   "outputs": [],
   "source": [
    "from joblib import dump as jl_dump\n",
    "from joblib import load as jl_load"
   ]
  },
  {
   "cell_type": "code",
   "execution_count": null,
   "metadata": {},
   "outputs": [],
   "source": [
    "for i in models_lin:\n",
    "    jl_dump(models_lin[i],\"./Saved_Models/Dihedrals/lin_{}{}{}{}.joblib\".format(*i))\n",
    "for i in models_ring:\n",
    "    jl_dump(models_ring[i],\"./Saved_Models/Dihedrals/ring_{}{}{}{}.joblib\".format(*i))"
   ]
  },
  {
   "cell_type": "code",
   "execution_count": null,
   "metadata": {},
   "outputs": [],
   "source": []
  }
 ],
 "metadata": {
  "kernelspec": {
   "display_name": "Python 3 (ipykernel)",
   "language": "python",
   "name": "python3"
  },
  "language_info": {
   "codemirror_mode": {
    "name": "ipython",
    "version": 3
   },
   "file_extension": ".py",
   "mimetype": "text/x-python",
   "name": "python",
   "nbconvert_exporter": "python",
   "pygments_lexer": "ipython3",
   "version": "3.8.13"
  }
 },
 "nbformat": 4,
 "nbformat_minor": 2
}
