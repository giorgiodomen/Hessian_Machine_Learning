{
 "cells": [
  {
   "cell_type": "code",
   "execution_count": null,
   "metadata": {},
   "outputs": [],
   "source": [
    "import matplotlib.pyplot as plt\n",
    "import numpy as np\n",
    "from numpy.linalg import norm\n",
    "from sklearn.model_selection import train_test_split\n",
    "from sklearn.ensemble import RandomForestRegressor\n",
    "import time,copy\n",
    "from sklearn.kernel_ridge import KernelRidge\n",
    "import sys \n",
    "%load_ext autoreload\n",
    "%autoreload 2\n",
    "sys.path.append(\"../Libs\")\n",
    "from Repres_utils import bm_to_graph,find_path,find_all_paths,distmat,append_dict,build_i_idx,get_dihedral,\\\n",
    "                        dihedral_cos,angle_cos,mol_integrity,ordered_charges\n",
    "\n",
    "from parallel_representations import multi_process_repr\n",
    "from Representations import build_bond_repr,build_angle_repr,build_dihedral_repr\n",
    "\n",
    "np.set_printoptions(precision=2)\n"
   ]
  },
  {
   "cell_type": "code",
   "execution_count": null,
   "metadata": {},
   "outputs": [],
   "source": [
    "data = np.load(\"../Read Data/DataSet_H_IC.npz\", allow_pickle=True)\n",
    "X_IC,Y_IC = data[\"x\"], data[\"y\"]\n",
    "Dat=np.vstack((X_IC.T,Y_IC)).T\n",
    "Dat.shape"
   ]
  },
  {
   "cell_type": "code",
   "execution_count": null,
   "metadata": {},
   "outputs": [],
   "source": [
    "mols=multi_process_repr(Dat[:],\"angles\",num_processes = 35)"
   ]
  },
  {
   "cell_type": "code",
   "execution_count": null,
   "metadata": {},
   "outputs": [],
   "source": [
    "train,test=train_test_split(mols)\n",
    "len(mols),len(train),len(test)"
   ]
  },
  {
   "cell_type": "code",
   "execution_count": null,
   "metadata": {},
   "outputs": [],
   "source": [
    "train_angles={}\n",
    "train_angles_r={}\n",
    "test_angles={}\n",
    "test_angles_r={}\n",
    "\n",
    "for mol in train:\n",
    "    for bond in mol:\n",
    "        ring,label,repres=bond\n",
    "        if ring:\n",
    "            append_dict(train_angles_r,label,repres)\n",
    "        else:\n",
    "            append_dict(train_angles,label,repres)\n",
    "for mol in test:\n",
    "    for bond in mol:\n",
    "        ring,label,repres=bond\n",
    "        if ring:\n",
    "            append_dict(test_angles_r,label,repres)\n",
    "        else:\n",
    "            append_dict(test_angles,label,repres)\n",
    "\n",
    "for bex in train_angles:\n",
    "    train_angles[bex]=np.asarray(train_angles[bex])\n",
    "for bex in train_angles_r:\n",
    "    train_angles_r[bex]=np.asarray(train_angles_r[bex])\n",
    "for bex in test_angles:\n",
    "    test_angles[bex]=np.asarray(test_angles[bex])\n",
    "for bex in test_angles_r:\n",
    "    test_angles_r[bex]=np.asarray(test_angles_r[bex])"
   ]
  },
  {
   "cell_type": "code",
   "execution_count": null,
   "metadata": {},
   "outputs": [],
   "source": [
    "predict_linear={}\n",
    "for bex in test_angles:\n",
    "    if bex not in train_angles: continue\n",
    "    x_train,y_train=train_angles[bex][:,:-1],train_angles[bex][:,-1] \n",
    "    x_test,y_test=test_angles[bex][:,:-1],test_angles[bex][:,-1] \n",
    "    if (len(y_test)+len(y_train))<100:continue \n",
    "    rfr = RandomForestRegressor(n_estimators=100,n_jobs=32)\n",
    "    rfr.fit(x_train, y_train.flatten())\n",
    "    y_predict=rfr.predict(x_test)\n",
    "    predict_linear[bex]=(y_test,y_predict)"
   ]
  },
  {
   "cell_type": "code",
   "execution_count": null,
   "metadata": {},
   "outputs": [],
   "source": [
    "for lp in predict_linear:\n",
    "    print(lp)\n",
    "    y_test,y_predict=predict_linear[lp]\n",
    "    plt.figure(figsize=(8,8))\n",
    "    plt.scatter(y_test,y_predict,s=2)\n",
    "    ml,Ml=min(min(y_predict),min(y_test)),max(max(y_predict),max(y_test))\n",
    "    plt.plot([ml,Ml],[ml,Ml],ls=\":\",c=\"k\")\n",
    "    plt.show()"
   ]
  },
  {
   "cell_type": "code",
   "execution_count": null,
   "metadata": {},
   "outputs": [],
   "source": [
    "predict_rings={}\n",
    "for bex in test_angles_r:\n",
    "    if bex not in train_angles_r: continue\n",
    "    x_train,y_train=train_angles_r[bex][:,:-1],train_angles_r[bex][:,-1] \n",
    "    x_test,y_test=test_angles_r[bex][:,:-1],test_angles_r[bex][:,-1] \n",
    "    if (len(y_test)+len(y_train))<100:continue \n",
    "    rfr = RandomForestRegressor(n_estimators=100,n_jobs=32)\n",
    "    rfr.fit(x_train, y_train.flatten())\n",
    "    y_predict=rfr.predict(x_test)\n",
    "    predict_rings[bex]=(y_test,y_predict)"
   ]
  },
  {
   "cell_type": "code",
   "execution_count": null,
   "metadata": {},
   "outputs": [],
   "source": [
    "for rp in predict_rings:\n",
    "    print(rp)\n",
    "    y_test,y_predict=predict_rings[rp]\n",
    "    plt.figure(figsize=(8,8))\n",
    "    plt.scatter(y_test,y_predict,s=2)\n",
    "    ml,Ml=min(min(y_predict),min(y_test)),max(max(y_predict),max(y_test))\n",
    "    plt.plot([ml,Ml],[ml,Ml],ls=\":\",c=\"k\")\n",
    "    plt.show()"
   ]
  },
  {
   "cell_type": "markdown",
   "metadata": {},
   "source": [
    "# Save Models"
   ]
  },
  {
   "cell_type": "code",
   "execution_count": null,
   "metadata": {},
   "outputs": [],
   "source": [
    "lins={}\n",
    "rings={}\n",
    "for mol in mols:\n",
    "    for angle in mol:\n",
    "        ring,label,repres=angle\n",
    "        if ring:\n",
    "            append_dict(rings,label,repres)\n",
    "        else:\n",
    "            append_dict(lins,label,repres)\n",
    "\n",
    "for bex in lins:\n",
    "    lins[bex]=np.asarray(lins[bex])\n",
    "for bex in rings:\n",
    "    rings[bex]=np.asarray(rings[bex])"
   ]
  },
  {
   "cell_type": "code",
   "execution_count": null,
   "metadata": {},
   "outputs": [],
   "source": [
    "models_lin={}\n",
    "\n",
    "for bex in lins:\n",
    "    x_train,y_train=lins[bex][:,:-1],lins[bex][:,-1] \n",
    "    rfr = RandomForestRegressor(n_estimators=100,n_jobs=32)\n",
    "    rfr.fit(x_train, y_train)\n",
    "    rfr.n_jobs=1\n",
    "    models_lin[bex]=rfr"
   ]
  },
  {
   "cell_type": "code",
   "execution_count": null,
   "metadata": {},
   "outputs": [],
   "source": [
    "models_ring={}\n",
    "for bex in rings:\n",
    "    x_train,y_train=rings[bex][:,:-1],rings[bex][:,-1] \n",
    "    rfr = RandomForestRegressor(n_estimators=100,n_jobs=32)\n",
    "    rfr.fit(x_train, y_train.flatten())\n",
    "    rfr.n_jobs=1\n",
    "    models_ring[bex]=rfr"
   ]
  },
  {
   "cell_type": "code",
   "execution_count": null,
   "metadata": {},
   "outputs": [],
   "source": [
    "from joblib import dump as jl_dump\n",
    "from joblib import load as jl_load"
   ]
  },
  {
   "cell_type": "code",
   "execution_count": null,
   "metadata": {},
   "outputs": [],
   "source": [
    "for i in models_lin:\n",
    "    jl_dump(models_lin[i],\"./Saved_Models/Angles/lin_{}{}{}.joblib\".format(*i))\n",
    "for i in models_ring:\n",
    "    jl_dump(models_ring[i],\"./Saved_Models/Angles/ring_{}{}{}.joblib\".format(*i))"
   ]
  },
  {
   "cell_type": "code",
   "execution_count": null,
   "metadata": {},
   "outputs": [],
   "source": []
  }
 ],
 "metadata": {
  "interpreter": {
   "hash": "06d3e5363ec28a7a73cbb27c01ffec8a9c20a8cf531e30e39ccc773e1dbc79ba"
  },
  "kernelspec": {
   "display_name": "Python 3 (ipykernel)",
   "language": "python",
   "name": "python3"
  },
  "language_info": {
   "codemirror_mode": {
    "name": "ipython",
    "version": 3
   },
   "file_extension": ".py",
   "mimetype": "text/x-python",
   "name": "python",
   "nbconvert_exporter": "python",
   "pygments_lexer": "ipython3",
   "version": "3.8.13"
  }
 },
 "nbformat": 4,
 "nbformat_minor": 2
}
