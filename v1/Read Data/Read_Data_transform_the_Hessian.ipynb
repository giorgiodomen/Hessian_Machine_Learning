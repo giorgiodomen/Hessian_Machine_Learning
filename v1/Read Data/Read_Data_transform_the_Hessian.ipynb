{
 "cells": [
  {
   "cell_type": "code",
   "execution_count": null,
   "metadata": {},
   "outputs": [],
   "source": [
    "import numpy as np\n",
    "import sys \n",
    "import os \n",
    "from multiprocessing import Pool\n",
    "sys.path.append(\"../Libs\")\n",
    "%load_ext autoreload\n",
    "%autoreload 2\n",
    "from Constants import bohr2ang,ang2bohr\n",
    "from Charge2Symbol import charge\n",
    "from hessian_transform import Build_h_ic,symmMatInv,Build_h_cart,build_BpG\n",
    "from BBOM import build_BOM\n",
    "from Repres_utils import mol_integrity,bm_to_graph\n",
    "import berny\n",
    "from berny import Berny, geomlib, coords,Geometry,Math\n",
    "\n",
    "np.set_printoptions(3)"
   ]
  },
  {
   "cell_type": "code",
   "execution_count": null,
   "metadata": {},
   "outputs": [],
   "source": [
    "data=[]\n",
    "for fname in os.listdir(\"../Dataset QM7\")[:]:\n",
    "    with open(\"../Dataset QM7/\"+fname, 'rb') as f:\n",
    "        try:\n",
    "            data.append(pickle.load(f))\n",
    "        except:pass"
   ]
  },
  {
   "cell_type": "code",
   "execution_count": null,
   "metadata": {},
   "outputs": [],
   "source": [
    "len(data)"
   ]
  },
  {
   "cell_type": "code",
   "execution_count": null,
   "metadata": {},
   "outputs": [],
   "source": [
    "def add_calc(calcs):\n",
    "    l=[]\n",
    "    for calc in calcs:\n",
    "        at_coords,atlist,g,H,P,S,aoslice=calc\n",
    "        geom0=Geometry(atlist,at_coords*bohr2ang)\n",
    "        h_ic,g_ic,s=Build_h_ic(at_coords,atlist,g,H,num_processes=1)\n",
    "        idxs=[c.idx for c in s.coords._coords]    \n",
    "        B=s.coords.B_matrix(geom0)\n",
    "        BOM=build_BOM(P,S,aoslice)\n",
    "        molg=bm_to_graph(BOM)\n",
    "        if not mol_integrity(idxs,molg):continue\n",
    "        l.append([np.array([charge(e) for e in atlist]),at_coords,BOM,\n",
    "                 idxs,s.future.q,B,g_ic,h_ic])\n",
    "    return l"
   ]
  },
  {
   "cell_type": "code",
   "execution_count": null,
   "metadata": {},
   "outputs": [],
   "source": [
    "def multi_process_repr(arr):\n",
    "    num_processes = 35\n",
    "    chunks=np.array_split(arr,num_processes)\n",
    "    pool = Pool(processes=num_processes)\n",
    "    results = pool.map(add_calc, chunks)\n",
    "    return [item for list_ in results for item in list_]"
   ]
  },
  {
   "cell_type": "code",
   "execution_count": null,
   "metadata": {},
   "outputs": [],
   "source": [
    "pool=Pool()\n",
    "data_splitted=np.array_split(data[:],20)\n",
    "jobmap=pool.map(add_calc, data_splitted)"
   ]
  },
  {
   "cell_type": "code",
   "execution_count": null,
   "metadata": {},
   "outputs": [],
   "source": [
    "X_IC,Y_IC=[],[]\n",
    "for j in jobmap:\n",
    "    for c in j:\n",
    "        X_IC.append(c[:-1])\n",
    "        Y_IC.append(c[-1])\n",
    "        "
   ]
  },
  {
   "cell_type": "code",
   "execution_count": null,
   "metadata": {},
   "outputs": [],
   "source": [
    "np.savez_compressed(\"DataSet_H_IC\",x=X_IC ,y=Y_IC)"
   ]
  },
  {
   "cell_type": "code",
   "execution_count": null,
   "metadata": {},
   "outputs": [],
   "source": []
  }
 ],
 "metadata": {
  "kernelspec": {
   "display_name": "Python 3 (ipykernel)",
   "language": "python",
   "name": "python3"
  },
  "language_info": {
   "codemirror_mode": {
    "name": "ipython",
    "version": 3
   },
   "file_extension": ".py",
   "mimetype": "text/x-python",
   "name": "python",
   "nbconvert_exporter": "python",
   "pygments_lexer": "ipython3",
   "version": "3.8.13"
  }
 },
 "nbformat": 4,
 "nbformat_minor": 4
}
